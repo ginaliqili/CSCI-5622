{
 "cells": [
  {
   "cell_type": "markdown",
   "metadata": {},
   "source": [
    "## MNIST example\n",
    "This is a demo of how to create a simple CNN classifier for the MNIST database. The MNIST dataset contains handwritten digits from 0-9, and the idea is to create a model that will learn to recognize the handwritten digits correctly.\n",
    "\n",
    "Let's first import the tensorflow library so that we can load in the MNIST dataset, which has already been prepared for us (in real world problems, you'll need to prepare the training and test data yourself)."
   ]
  },
  {
   "cell_type": "code",
   "execution_count": 1,
   "metadata": {},
   "outputs": [],
   "source": [
    "import tensorflow as tf # import the tensorflow library\n",
    "mnist = tf.keras.datasets.mnist # load in the MNIST dataset, which consis of images of hand-written digits 0-9\n",
    "(x_train, y_train), (x_test, y_test) = mnist.load_data() # load in the training and testing data"
   ]
  },
  {
   "cell_type": "markdown",
   "metadata": {},
   "source": [
    "Then, we'll normalize the pixel values from 0-255 to 0-1, to make model learning easier on TensorFlow. "
   ]
  },
  {
   "cell_type": "code",
   "execution_count": 2,
   "metadata": {},
   "outputs": [],
   "source": [
    "x_train = tf.keras.utils.normalize(x_train, axis=1) # normalize pixel values from 0-255 to 0-1 (optional)\n",
    "x_test = tf.keras.utils.normalize(x_test, axis=1) # normalize pixel values from 0-255 to 0-1 (optional)\n"
   ]
  },
  {
   "cell_type": "markdown",
   "metadata": {},
   "source": [
    "I've output the an example of one of the images, a \"5\""
   ]
  },
  {
   "cell_type": "code",
   "execution_count": 5,
   "metadata": {},
   "outputs": [
    {
     "data": {
      "text/plain": [
       "<matplotlib.image.AxesImage at 0x1ee9af30240>"
      ]
     },
     "execution_count": 5,
     "metadata": {},
     "output_type": "execute_result"
    },
    {
     "data": {
      "image/png": "[encoded data removed]",
      "text/plain": [
       "<Figure size 432x288 with 1 Axes>"
      ]
     },
     "metadata": {
      "needs_background": "light"
     },
     "output_type": "display_data"
    }
   ],
   "source": [
    "import matplotlib.pyplot as plt\n",
    "plt.imshow(x_train[0], cmap = plt.cm.binary)"
   ]
  },
  {
   "cell_type": "markdown",
   "metadata": {},
   "source": [
    "Here's a \"0\""
   ]
  },
  {
   "cell_type": "code",
   "execution_count": 6,
   "metadata": {},
   "outputs": [
    {
     "data": {
      "text/plain": [
       "<matplotlib.image.AxesImage at 0x1ee9af900f0>"
      ]
     },
     "execution_count": 6,
     "metadata": {},
     "output_type": "execute_result"
    },
    {
     "data": {
      "image/png": "[encoded data removed]",
      "text/plain": [
       "<Figure size 432x288 with 1 Axes>"
      ]
     },
     "metadata": {
      "needs_background": "light"
     },
     "output_type": "display_data"
    }
   ],
   "source": [
    "plt.imshow(x_train[1], cmap = plt.cm.binary)"
   ]
  },
  {
   "cell_type": "markdown",
   "metadata": {},
   "source": [
    "...And a \"4\""
   ]
  },
  {
   "cell_type": "code",
   "execution_count": 7,
   "metadata": {},
   "outputs": [
    {
     "data": {
      "text/plain": [
       "<matplotlib.image.AxesImage at 0x1ee9afe4cc0>"
      ]
     },
     "execution_count": 7,
     "metadata": {},
     "output_type": "execute_result"
    },
    {
     "data": {
      "image/png": "[encoded data removed]",
      "text/plain": [
       "<Figure size 432x288 with 1 Axes>"
      ]
     },
     "metadata": {
      "needs_background": "light"
     },
     "output_type": "display_data"
    }
   ],
   "source": [
    "plt.imshow(x_train[2], cmap = plt.cm.binary)"
   ]
  },
  {
   "cell_type": "code",
   "execution_count": 8,
   "metadata": {},
   "outputs": [
    {
     "name": "stdout",
     "output_type": "stream",
     "text": [
      "Epoch 1/3\n",
      "60000/60000 [==============================] - 4s 71us/step - loss: 0.2602 - acc: 0.9247\n",
      "Epoch 2/3\n",
      "60000/60000 [==============================] - 6s 100us/step - loss: 0.1067 - acc: 0.9669\n",
      "Epoch 3/3\n",
      "60000/60000 [==============================] - 6s 99us/step - loss: 0.0719 - acc: 0.9779\n"
     ]
    },
    {
     "data": {
      "text/plain": [
       "<tensorflow.python.keras.callbacks.History at 0x1ee9c031fd0>"
      ]
     },
     "execution_count": 8,
     "metadata": {},
     "output_type": "execute_result"
    }
   ],
   "source": [
    "\n",
    "# Define architecture of model\n",
    "model = tf.keras.models.Sequential() # Sequential is a basic feed forward model\n",
    "model.add(tf.keras.layers.Flatten()) # turns multi-dimensional array to a 1d array, input layer\n",
    "model.add(tf.keras.layers.Dense(128, activation=tf.nn.relu)) # hidden layer 1 (128 neurons in the layer, rectified linear (default activation function))\n",
    "model.add(tf.keras.layers.Dense(128, activation=tf.nn.relu))  # hidden layer 2\n",
    "model.add(tf.keras.layers.Dense(10, activation=tf.nn.softmax)) # output layer, softmax is probability distribution\n",
    "\n",
    "# Parameters for training of the model\n",
    "model.compile(optimizer='adam', # adam optimizer is kind of like default (could also use stochastic gradient descent)\n",
    "             loss='sparse_categorical_crossentropy', # degree of error -- NN doesnt maximize accuracy, but rather minimize loss\n",
    "             metrics=['accuracy']) # metrics to track\n",
    "\n",
    "# Train the model\n",
    "model.fit(x_train, y_train, epochs=3)"
   ]
  },
  {
   "cell_type": "markdown",
   "metadata": {},
   "source": [
    "You'll notice with each epoch, the accuracy goes up and the loss goes down. After just 3 epochs, the accuracy is already at 97.77 percent, which is pretty good. Note this is just in-sample though. Next, we will assess accuracy of the model on data that it hasn't seen yet (the test data set)."
   ]
  },
  {
   "cell_type": "code",
   "execution_count": 9,
   "metadata": {},
   "outputs": [
    {
     "name": "stdout",
     "output_type": "stream",
     "text": [
      "10000/10000 [==============================] - 1s 52us/step\n",
      "0.09338499597012996 0.9718\n"
     ]
    }
   ],
   "source": [
    "# Calculate the validation loss and validation accuracy\n",
    "val_loss, val_acc = model.evaluate(x_test, y_test)\n",
    "print(val_loss, val_acc)"
   ]
  },
  {
   "cell_type": "markdown",
   "metadata": {},
   "source": [
    "The accuracy is still 97.33% which is great (obviously it's going to be a little lower than the in-sample accuracym you should expect this). If there is a huge delta, that means you have overfit. "
   ]
  },
  {
   "cell_type": "markdown",
   "metadata": {},
   "source": [
    "Let's take a look at an inidivudal prediction"
   ]
  },
  {
   "cell_type": "code",
   "execution_count": 10,
   "metadata": {},
   "outputs": [],
   "source": [
    "predictions = model.predict([x_test])"
   ]
  },
  {
   "cell_type": "code",
   "execution_count": 11,
   "metadata": {},
   "outputs": [
    {
     "name": "stdout",
     "output_type": "stream",
     "text": [
      "7\n"
     ]
    }
   ],
   "source": [
    "import numpy as np\n",
    "print(np.argmax(predictions[0]))"
   ]
  },
  {
   "cell_type": "markdown",
   "metadata": {},
   "source": [
    "The first item in the test set is predicted to be a \"7\" from our model. Looking at the actual image, we can see that it is indeed a 7."
   ]
  },
  {
   "cell_type": "code",
   "execution_count": 13,
   "metadata": {},
   "outputs": [
    {
     "data": {
      "text/plain": [
       "<matplotlib.image.AxesImage at 0x1ee9c787860>"
      ]
     },
     "execution_count": 13,
     "metadata": {},
     "output_type": "execute_result"
    },
    {
     "data": {
      "image/png": "[encoded data removed]",
      "text/plain": [
       "<Figure size 432x288 with 1 Axes>"
      ]
     },
     "metadata": {
      "needs_background": "light"
     },
     "output_type": "display_data"
    }
   ],
   "source": [
    "plt.imshow(x_test[0])"
   ]
  },
  {
   "cell_type": "code",
   "execution_count": null,
   "metadata": {},
   "outputs": [],
   "source": []
  }
 ],
 "metadata": {
  "kernelspec": {
   "display_name": "Python 3",
   "language": "python",
   "name": "python3"
  },
  "language_info": {
   "codemirror_mode": {
    "name": "ipython",
    "version": 3
   },
   "file_extension": ".py",
   "mimetype": "text/x-python",
   "name": "python",
   "nbconvert_exporter": "python",
   "pygments_lexer": "ipython3",
   "version": "3.6.6"
  }
 },
 "nbformat": 4,
 "nbformat_minor": 2
}
